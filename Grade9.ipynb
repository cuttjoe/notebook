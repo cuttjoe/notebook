{
 "cells": [
  {
   "cell_type": "markdown",
   "metadata": {
    "collapsed": true
   },
   "source": [
    "# Here is some answers to the code questions on lists"
   ]
  },
  {
   "cell_type": "markdown",
   "metadata": {},
   "source": [
    "Question 1a"
   ]
  },
  {
   "cell_type": "code",
   "execution_count": 2,
   "metadata": {
    "collapsed": false
   },
   "outputs": [
    {
     "name": "stdout",
     "output_type": "stream",
     "text": [
      "[1, 2, 3, 4, 5, 6, 7, 8, 9]\n"
     ]
    }
   ],
   "source": [
    "alist=[1,2,3,4]\n",
    "blist=[5,6,7,8,9]\n",
    "clist=alist+blist\n",
    "print(clist)"
   ]
  },
  {
   "cell_type": "markdown",
   "metadata": {},
   "source": [
    "Question 1b"
   ]
  },
  {
   "cell_type": "code",
   "execution_count": null,
   "metadata": {
    "collapsed": true
   },
   "outputs": [],
   "source": [
    "for i in range(len(clist)):\n",
    "        print(clist[i])"
   ]
  },
  {
   "cell_type": "markdown",
   "metadata": {},
   "source": [
    "Question 1b alternate"
   ]
  },
  {
   "cell_type": "code",
   "execution_count": 4,
   "metadata": {
    "collapsed": false
   },
   "outputs": [
    {
     "name": "stdout",
     "output_type": "stream",
     "text": [
      "1\n",
      "2\n",
      "3\n",
      "4\n",
      "5\n",
      "6\n",
      "7\n",
      "8\n",
      "9\n"
     ]
    }
   ],
   "source": [
    "for i in clist:\n",
    "        print(i)"
   ]
  },
  {
   "cell_type": "code",
   "execution_count": null,
   "metadata": {
    "collapsed": true
   },
   "outputs": [],
   "source": [
    "Question 1c"
   ]
  },
  {
   "cell_type": "code",
   "execution_count": 3,
   "metadata": {
    "collapsed": false
   },
   "outputs": [
    {
     "name": "stdout",
     "output_type": "stream",
     "text": [
      "length of list  9\n"
     ]
    }
   ],
   "source": [
    "print(\"length of list \",len(clist))"
   ]
  },
  {
   "cell_type": "code",
   "execution_count": null,
   "metadata": {
    "collapsed": true
   },
   "outputs": [],
   "source": [
    "Question 2"
   ]
  },
  {
   "cell_type": "code",
   "execution_count": 5,
   "metadata": {
    "collapsed": false
   },
   "outputs": [
    {
     "name": "stdout",
     "output_type": "stream",
     "text": [
      "[0, 1, 2, 3, 4, 5, 6, 7, 8, 9]\n"
     ]
    }
   ],
   "source": [
    "clist=[]\n",
    "for i in range (0,10):\n",
    "    clist.append(i)\n",
    "print(clist)"
   ]
  },
  {
   "cell_type": "code",
   "execution_count": null,
   "metadata": {
    "collapsed": true
   },
   "outputs": [],
   "source": [
    "Question 3"
   ]
  },
  {
   "cell_type": "code",
   "execution_count": 6,
   "metadata": {
    "collapsed": false
   },
   "outputs": [
    {
     "name": "stdout",
     "output_type": "stream",
     "text": [
      "[0, 2, 4, 6, 8]\n"
     ]
    }
   ],
   "source": [
    "clist=[]\n",
    "for i in range (0,10,2):\n",
    "    clist.append(i)\n",
    "print(clist)"
   ]
  },
  {
   "cell_type": "code",
   "execution_count": null,
   "metadata": {
    "collapsed": true
   },
   "outputs": [],
   "source": [
    "Question 4"
   ]
  },
  {
   "cell_type": "code",
   "execution_count": null,
   "metadata": {
    "collapsed": true
   },
   "outputs": [],
   "source": [
    "clist=[]\n",
    "    for i in range (10):\n",
    "        if i%2!=0:\n",
    "            clist.append(i)\n",
    "    print(clist)"
   ]
  },
  {
   "cell_type": "markdown",
   "metadata": {},
   "source": [
    "Question 5"
   ]
  },
  {
   "cell_type": "code",
   "execution_count": 8,
   "metadata": {
    "collapsed": false
   },
   "outputs": [
    {
     "name": "stdout",
     "output_type": "stream",
     "text": [
      "please enter name to search John\n",
      "6\n",
      "name in position  7\n"
     ]
    }
   ],
   "source": [
    "namelist=[\"Bob\",\"Peter\",\"James\",\"Hilton\",\"Sam\",\"Edwin\",\"John\"]\n",
    "search=input(\"please enter name to search \")\n",
    "print(namelist.index(search))\n",
    "if namelist.index(search)>=0:\n",
    "    print(\"name in position \", namelist.index(search)+1)\n",
    "       \n",
    "else:\n",
    "    print(\"not in list\")"
   ]
  },
  {
   "cell_type": "code",
   "execution_count": null,
   "metadata": {
    "collapsed": true
   },
   "outputs": [],
   "source": [
    "Question 5 b"
   ]
  },
  {
   "cell_type": "code",
   "execution_count": 11,
   "metadata": {
    "collapsed": false
   },
   "outputs": [],
   "source": [
    "ans=int(input(\"would you like to \\n 1)remove a name or 2) add a a name \\n\"))\n",
    "if ans ==1:\n",
    "    name_remove=input(\"Enter name to remove\\n\")\n",
    "    namelist.remove(name_remove)\n",
    "    print(namelist)\n",
    "elif ans==2:\n",
    "    name_add=input(\"please enter name to add \\n\")\n",
    "    namelist.append(name_add)\n",
    "    print(namelist)\n",
    "else:\n",
    "    print(\"please only enter 1 or 2 \")"
   ]
  },
  {
   "cell_type": "code",
   "execution_count": null,
   "metadata": {
    "collapsed": true
   },
   "outputs": [],
   "source": [
    "Question 6"
   ]
  },
  {
   "cell_type": "code",
   "execution_count": 1,
   "metadata": {
    "collapsed": false
   },
   "outputs": [
    {
     "name": "stdout",
     "output_type": "stream",
     "text": [
      "[1, 2, 3, 4, 5, 6, 7, 8]\n"
     ]
    }
   ],
   "source": [
    "alist=[1,3,5,7]\n",
    "blist=[2,4,6,8]\n",
    "clist=alist+blist\n",
    "clist.sort()\n",
    "print(clist)"
   ]
  },
  {
   "cell_type": "markdown",
   "metadata": {},
   "source": [
    "Question 7"
   ]
  },
  {
   "cell_type": "code",
   "execution_count": 13,
   "metadata": {
    "collapsed": false
   },
   "outputs": [
    {
     "name": "stdout",
     "output_type": "stream",
     "text": [
      "enter search letter\n",
      "a\n",
      "2\n",
      "enter search word\n",
      "new\n",
      "1\n"
     ]
    }
   ],
   "source": [
    "sentence=\"on a  sunny day the bees scout out new territory\"\n",
    "lista=list(sentence)\n",
    "search=input(\"enter search letter\\n\")\n",
    "print(lista.count(search))\n",
    "    \n",
    "sentence=\"on a  sunny day the bees scout out new territory\"\n",
    "lista=sentence.split()\n",
    "search=input(\"enter search word\\n\")\n",
    "print(lista.count(search))"
   ]
  },
  {
   "cell_type": "code",
   "execution_count": null,
   "metadata": {
    "collapsed": true
   },
   "outputs": [],
   "source": [
    "Question 8"
   ]
  },
  {
   "cell_type": "code",
   "execution_count": 14,
   "metadata": {
    "collapsed": false
   },
   "outputs": [
    {
     "name": "stdout",
     "output_type": "stream",
     "text": [
      "['Apple', 'Pear', 'Tomato', 'Guava', 'Orange', 'Lemon']\n"
     ]
    }
   ],
   "source": [
    "list=[\"Apple\",\"Pear\",\"Tomato\",\"Guava\",\"Lemon\"]\n",
    "#test with sort\n",
    "#list.sort()\n",
    "pos=list.index(\"Guava\")\n",
    "list.insert(pos+1,\"Orange\")\n",
    "print(list)"
   ]
  },
  {
   "cell_type": "code",
   "execution_count": null,
   "metadata": {
    "collapsed": true
   },
   "outputs": [],
   "source": []
  }
 ],
 "metadata": {
  "kernelspec": {
   "display_name": "Python 3",
   "language": "python",
   "name": "python3"
  },
  "language_info": {
   "codemirror_mode": {
    "name": "ipython",
    "version": 3
   },
   "file_extension": ".py",
   "mimetype": "text/x-python",
   "name": "python",
   "nbconvert_exporter": "python",
   "pygments_lexer": "ipython3",
   "version": "3.5.1"
  }
 },
 "nbformat": 4,
 "nbformat_minor": 0
}
